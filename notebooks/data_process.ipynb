{
 "cells": [
  {
   "cell_type": "markdown",
   "metadata": {},
   "source": [
    "# Processamento dos dados coletados"
   ]
  },
  {
   "cell_type": "code",
   "execution_count": 1,
   "metadata": {},
   "outputs": [],
   "source": [
    "import pandas as pd\n",
    "import ast\n",
    "import requests\n",
    "from  utils.data_process_utils import *"
   ]
  },
  {
   "cell_type": "markdown",
   "metadata": {},
   "source": [
    "## Carregando os datasets e extraindo a coluna products"
   ]
  },
  {
   "cell_type": "code",
   "execution_count": 2,
   "metadata": {},
   "outputs": [],
   "source": [
    "data_2025 = pd.read_csv('../src/data/bronze/complains_2025.csv')\n",
    "data_2023_2024 = pd.read_csv('../src/data/bronze/complains_2023_to_2024.csv')"
   ]
  },
  {
   "cell_type": "code",
   "execution_count": 3,
   "metadata": {},
   "outputs": [],
   "source": [
    "df_2025 = process_products_dataframe(data_2025, \"complains_2025\")"
   ]
  },
  {
   "cell_type": "code",
   "execution_count": 4,
   "metadata": {},
   "outputs": [],
   "source": [
    "df_2023_2024 = process_products_dataframe(data_2023_2024, \"complains_2023_to_2024\")"
   ]
  },
  {
   "cell_type": "markdown",
   "metadata": {},
   "source": [
    "## Análise exploratória dos dados"
   ]
  },
  {
   "cell_type": "code",
   "execution_count": 5,
   "metadata": {},
   "outputs": [
    {
     "data": {
      "text/plain": [
       "odiNumber                 0\n",
       "manufacturer              0\n",
       "crash                     0\n",
       "fire                      0\n",
       "numberOfInjuries          0\n",
       "numberOfDeaths            0\n",
       "dateOfIncident            0\n",
       "dateComplaintFiled        0\n",
       "vin                     229\n",
       "components                0\n",
       "summary                   0\n",
       "type                      0\n",
       "productYear               0\n",
       "productMake               0\n",
       "productModel              0\n",
       "manufacturer              0\n",
       "size                  20158\n",
       "dtype: int64"
      ]
     },
     "execution_count": 5,
     "metadata": {},
     "output_type": "execute_result"
    }
   ],
   "source": [
    "df_2023_2024.isna().sum()"
   ]
  },
  {
   "cell_type": "markdown",
   "metadata": {},
   "source": [
    "### Vamos excluir a coluna size por apresentar muitos dados faltantes."
   ]
  },
  {
   "cell_type": "code",
   "execution_count": 6,
   "metadata": {},
   "outputs": [],
   "source": [
    "df_2023_2024 = df_2023_2024.drop(columns=['size'], axis=1)\n",
    "df_2025 = df_2025.drop(columns=['size'], axis=1)"
   ]
  },
  {
   "cell_type": "code",
   "execution_count": 7,
   "metadata": {},
   "outputs": [
    {
     "data": {
      "text/plain": [
       "odiNumber               0\n",
       "manufacturer            0\n",
       "crash                   0\n",
       "fire                    0\n",
       "numberOfInjuries        0\n",
       "numberOfDeaths          0\n",
       "dateOfIncident          0\n",
       "dateComplaintFiled      0\n",
       "vin                   229\n",
       "components              0\n",
       "summary                 0\n",
       "type                    0\n",
       "productYear             0\n",
       "productMake             0\n",
       "productModel            0\n",
       "manufacturer            0\n",
       "dtype: int64"
      ]
     },
     "execution_count": 7,
     "metadata": {},
     "output_type": "execute_result"
    }
   ],
   "source": [
    "df_2023_2024.isna().sum()"
   ]
  },
  {
   "cell_type": "markdown",
   "metadata": {},
   "source": [
    "### Vamos remover os valores faltantes para vin, pois não conseguimos preencher esses valores"
   ]
  },
  {
   "cell_type": "code",
   "execution_count": 8,
   "metadata": {},
   "outputs": [],
   "source": [
    "df_2023_2024.dropna(subset=['vin'], inplace=True)\n",
    "df_2025.dropna(subset=['vin'], inplace=True)"
   ]
  },
  {
   "cell_type": "code",
   "execution_count": 9,
   "metadata": {},
   "outputs": [
    {
     "data": {
      "text/plain": [
       "np.int64(3485)"
      ]
     },
     "execution_count": 9,
     "metadata": {},
     "output_type": "execute_result"
    }
   ],
   "source": [
    "df_2023_2024.duplicated().sum()"
   ]
  },
  {
   "cell_type": "code",
   "execution_count": 10,
   "metadata": {},
   "outputs": [
    {
     "data": {
      "text/plain": [
       "np.int64(36)"
      ]
     },
     "execution_count": 10,
     "metadata": {},
     "output_type": "execute_result"
    }
   ],
   "source": [
    "df_2025.duplicated().sum()"
   ]
  },
  {
   "cell_type": "code",
   "execution_count": 11,
   "metadata": {},
   "outputs": [
    {
     "data": {
      "text/plain": [
       "odiNumber             0\n",
       "manufacturer          0\n",
       "crash                 0\n",
       "fire                  0\n",
       "numberOfInjuries      0\n",
       "numberOfDeaths        0\n",
       "dateOfIncident        0\n",
       "dateComplaintFiled    0\n",
       "vin                   0\n",
       "components            0\n",
       "summary               0\n",
       "type                  0\n",
       "productYear           0\n",
       "productMake           0\n",
       "productModel          0\n",
       "manufacturer          0\n",
       "dtype: int64"
      ]
     },
     "execution_count": 11,
     "metadata": {},
     "output_type": "execute_result"
    }
   ],
   "source": [
    "df_2023_2024.isna().sum()"
   ]
  },
  {
   "cell_type": "code",
   "execution_count": 12,
   "metadata": {},
   "outputs": [
    {
     "data": {
      "text/plain": [
       "odiNumber             0\n",
       "manufacturer          0\n",
       "crash                 0\n",
       "fire                  0\n",
       "numberOfInjuries      0\n",
       "numberOfDeaths        0\n",
       "dateOfIncident        0\n",
       "dateComplaintFiled    0\n",
       "vin                   0\n",
       "components            0\n",
       "summary               0\n",
       "type                  0\n",
       "productYear           0\n",
       "productMake           0\n",
       "productModel          0\n",
       "manufacturer          0\n",
       "dtype: int64"
      ]
     },
     "execution_count": 12,
     "metadata": {},
     "output_type": "execute_result"
    }
   ],
   "source": [
    "df_2025.isna().sum()"
   ]
  },
  {
   "cell_type": "markdown",
   "metadata": {},
   "source": [
    "### Removendo duplicadas e null's"
   ]
  },
  {
   "cell_type": "code",
   "execution_count": 13,
   "metadata": {},
   "outputs": [],
   "source": [
    "df_2023_2024 = drop_duplicated_and_null_rows(df_2023_2024)\n",
    "df_2025 = drop_duplicated_and_null_rows(df_2025)"
   ]
  },
  {
   "cell_type": "code",
   "execution_count": 14,
   "metadata": {},
   "outputs": [
    {
     "data": {
      "text/plain": [
       "np.int64(0)"
      ]
     },
     "execution_count": 14,
     "metadata": {},
     "output_type": "execute_result"
    }
   ],
   "source": [
    "df_2023_2024.duplicated().sum()"
   ]
  },
  {
   "cell_type": "code",
   "execution_count": 15,
   "metadata": {},
   "outputs": [
    {
     "data": {
      "text/plain": [
       "odiNumber             0\n",
       "manufacturer          0\n",
       "crash                 0\n",
       "fire                  0\n",
       "numberOfInjuries      0\n",
       "numberOfDeaths        0\n",
       "dateOfIncident        0\n",
       "dateComplaintFiled    0\n",
       "vin                   0\n",
       "components            0\n",
       "summary               0\n",
       "type                  0\n",
       "productYear           0\n",
       "productMake           0\n",
       "productModel          0\n",
       "manufacturer          0\n",
       "dtype: int64"
      ]
     },
     "execution_count": 15,
     "metadata": {},
     "output_type": "execute_result"
    }
   ],
   "source": [
    "df_2023_2024.isna().sum()"
   ]
  },
  {
   "cell_type": "code",
   "execution_count": 16,
   "metadata": {},
   "outputs": [
    {
     "data": {
      "text/plain": [
       "(16574, 16)"
      ]
     },
     "execution_count": 16,
     "metadata": {},
     "output_type": "execute_result"
    }
   ],
   "source": [
    "df_2023_2024.shape"
   ]
  },
  {
   "cell_type": "code",
   "execution_count": 17,
   "metadata": {},
   "outputs": [
    {
     "data": {
      "text/plain": [
       "(504, 16)"
      ]
     },
     "execution_count": 17,
     "metadata": {},
     "output_type": "execute_result"
    }
   ],
   "source": [
    "df_2025.shape"
   ]
  },
  {
   "cell_type": "code",
   "execution_count": null,
   "metadata": {},
   "outputs": [],
   "source": []
  }
 ],
 "metadata": {
  "kernelspec": {
   "display_name": ".venv",
   "language": "python",
   "name": "python3"
  },
  "language_info": {
   "codemirror_mode": {
    "name": "ipython",
    "version": 3
   },
   "file_extension": ".py",
   "mimetype": "text/x-python",
   "name": "python",
   "nbconvert_exporter": "python",
   "pygments_lexer": "ipython3",
   "version": "3.12.1"
  }
 },
 "nbformat": 4,
 "nbformat_minor": 2
}
