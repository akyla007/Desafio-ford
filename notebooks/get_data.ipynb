{
 "cells": [
  {
   "cell_type": "markdown",
   "metadata": {},
   "source": [
    "# Iniciando projeto"
   ]
  },
  {
   "cell_type": "code",
   "execution_count": 1,
   "metadata": {},
   "outputs": [],
   "source": [
    "import pandas as pd\n",
    "import requests\n",
    "from api_access import *"
   ]
  },
  {
   "cell_type": "code",
   "execution_count": 2,
   "metadata": {},
   "outputs": [],
   "source": [
    "colunas = [\n",
    "    'CMPLID', 'ODINO', 'MFR_NAME', 'MAKETXT', 'MODELTXT', 'YEARTXT', 'CRASH', 'FAILDATE', 'FIRE', \n",
    "    'INJURED', 'DEATHS', 'COMPDESC', 'CITY', 'STATE', 'VIN', 'DATEA', 'LDATE', 'MILES', 'OCCURENCES', \n",
    "    'CDESCR', 'CMPL_TYPE', 'POLICE_RPT_YN', 'PURCH_DT', 'ORIG_OWNER_YN', 'ANTI_BRAKES_YN', 'CRUISE_CONT_YN', \n",
    "    'NUM_CYLS', 'DRIVE_TRAIN', 'FUEL_SYS', 'FUEL_TYPE', 'TRANS_TYPE', 'VEH_SPEED', 'DOT', 'TIRE_SIZE', \n",
    "    'LOC_OF_TIRE', 'TIRE_FAIL_TYPE', 'ORIG_EQUIP_YN', 'MANUF_DT', 'SEAT_TYPE', 'RESTRAINT_TYPE', 'DEALER_NAME', \n",
    "    'DEALER_TEL', 'DEALER_CITY', 'DEALER_STATE', 'DEALER_ZIP', 'PROD_TYPE', 'REPAIRED_YN', 'MEDICAL_ATTN', \n",
    "    'VEHICLES_TOWED_YN'\n",
    "]\n"
   ]
  },
  {
   "cell_type": "code",
   "execution_count": 3,
   "metadata": {},
   "outputs": [],
   "source": [
    "colunas_uteis_para_nlp = [\n",
    "    \"CMPLID\",           # ID da Reclamação\n",
    "    \"MAKETXT\",          # Marca do Veículo\n",
    "    \"MODELTXT\",         # Modelo do Veículo\n",
    "    \"CRASH\",            # Se envolvido em acidente\n",
    "    \"FAILDATE\",         # Data do Incidente\n",
    "    \"CDESCR\",           # Descrição da Reclamação (Campo principal para NLP)\n",
    "    \"CMPL_TYPE\",        # Tipo da Reclamação (Ex: Defeito, Acidente, etc.)\n",
    "    \"POLICE_RPT_YN\",    # Se foi reportado à polícia (Y/N)\n",
    "    \"VIN\",              # Número de Identificação do Veículo (para referência)\n",
    "    \"STATE\"             # Estado do Consumidor\n",
    "]"
   ]
  },
  {
   "cell_type": "code",
   "execution_count": 4,
   "metadata": {},
   "outputs": [],
   "source": [
    "# # UTIL MAIS NA FRENTE\n",
    "# # Função para extrair as informações de cada lista de dicionários\n",
    "# def expandir_products(row):\n",
    "#     if isinstance(row, list) and len(row) > 0:\n",
    "#         return row[0]  # Extraímos o primeiro dicionário da lista\n",
    "#     return {}\n",
    "\n",
    "# # Expandir a coluna 'products' e extrair as informações desejadas\n",
    "# df_expanded = pd.json_normalize(df['products'].apply(expandir_products))\n",
    "\n",
    "# # Concatenar os dados expandidos com o DataFrame original\n",
    "# df = pd.concat([df, df_expanded], axis=1)\n",
    "\n",
    "# # Exibir o DataFrame resultante\n",
    "# df"
   ]
  },
  {
   "cell_type": "markdown",
   "metadata": {},
   "source": [
    "# Pegar os fabricantes dos anos de 2023-2025"
   ]
  },
  {
   "cell_type": "code",
   "execution_count": 5,
   "metadata": {},
   "outputs": [],
   "source": [
    "# get make for year 2023 and 2024\n",
    "data_year_make_2023 = get_makes_by_model_year(2023)\n",
    "data_year_make_2024 = get_makes_by_model_year(2024)\n",
    "data_year_make_2025 = get_makes_by_model_year(2025)"
   ]
  },
  {
   "cell_type": "code",
   "execution_count": 6,
   "metadata": {},
   "outputs": [
    {
     "data": {
      "text/plain": [
       "array(['ACURA', 'ALFA ROMEO', 'ALLIANCE RV', 'AUDI', 'BATTLE MOTORS',\n",
       "       'BINTELLI', 'BMW', 'BRINKLEY RV', 'BUICK', 'CADILLAC', 'CFMOTO',\n",
       "       'CHEVROLET', 'CHRYSLER', 'COACHMEN', 'DELCO TRAILERS', 'DODGE',\n",
       "       'EAST TO WEST', 'ENTEGRA', 'FORD', 'FOREST RIVER', 'FREIGHTLINER',\n",
       "       'GENESIS', 'GMC', 'GRAND DESIGN', 'HARLEY-DAVIDSON', 'HAULMARK',\n",
       "       'HOLIDAY RAMBLER', 'HONDA', 'HUSQVARNA', 'HYUNDAI', 'IC BUS',\n",
       "       'INEOS', 'INFINITI', 'INTERNATIONAL', 'INTERSTATE WEST', 'ISUZU',\n",
       "       'JAGUAR', 'JAYCO', 'JEEP', 'KARAVAN', 'KAWASAKI', 'KENWORTH',\n",
       "       'KIA', 'KTM', 'LAND ROVER', 'LEXUS', 'LINCOLN', 'LIVEWIRE',\n",
       "       'LOTUS', 'LUCID', 'MAZDA', 'MERCEDES-BENZ', 'MERCEDES-MAYBACH',\n",
       "       'MINI', 'MINT TINY HOUSE', 'MITSUBISHI', 'NIKOLA', 'NISSAN',\n",
       "       'PETERBILT', 'PIAGGIO', 'PJ TRAILERS', 'POLESTAR', 'PORSCHE',\n",
       "       'RAM', 'RIVIAN', 'SPARTAN', 'STARLITE TRAILERS', 'SUBARU',\n",
       "       'SUZUKI', 'TESLA', 'THOR MOTOR COACH', 'TIFFIN', 'TOYOTA',\n",
       "       'TRITON TRAILER', 'TRIUMPH', 'VINFAST', 'VOLKSWAGEN', 'VOLVO',\n",
       "       'WINNEBAGO', 'YAMAHA'], dtype=object)"
      ]
     },
     "execution_count": 6,
     "metadata": {},
     "output_type": "execute_result"
    }
   ],
   "source": [
    "data_year_make_2024['make'].unique()"
   ]
  },
  {
   "cell_type": "code",
   "execution_count": 7,
   "metadata": {},
   "outputs": [
    {
     "data": {
      "text/plain": [
       "array(['ACURA', 'AIRSTREAM', 'ALFA ROMEO', 'ALLIANCE RV', 'ALTEC',\n",
       "       'AMERICAN COACH', 'AUDI', 'BAODIAO', 'BATTLE MOTORS', 'BENTLEY',\n",
       "       'BIG TEX', 'BLUE BIRD', 'BMW', 'BUICK', 'CADILLAC', 'CAN-AM',\n",
       "       'CFMOTO', 'CHEVROLET', 'CHRYSLER', 'COACHMEN', 'CRITERION',\n",
       "       'DELCO TRAILERS', 'DODGE', 'DUCATI', 'DYNAMAX', 'ENERGICA',\n",
       "       'ENTEGRA', 'FISKER', 'FLEETWOOD', 'FORD', 'FOREST RIVER',\n",
       "       'FREIGHTLINER', 'GENESIS', 'GENESIS SUPREME', 'GMC',\n",
       "       'GRAND DESIGN', 'HAPPIER CAMPER', 'HARLEY-DAVIDSON', 'HAUL-ABOUT',\n",
       "       'HEARTLAND', 'HIGHLAND RIDGE', 'HOLIDAY RAMBLER', 'HONDA',\n",
       "       'HUSQVARNA', 'HYUNDAI', 'IC BUS', 'INDIAN', 'INFINITI',\n",
       "       'INTERNATIONAL', 'JAGUAR', 'JAYCO', 'JEEP', 'JUST TRAILERS',\n",
       "       'KAUFMAN TRAILERS', 'KAWASAKI', 'KENWORTH', 'KEYSTONE', 'KIA',\n",
       "       'KTM', 'LAMBORGHINI', 'LAND ROVER', 'LEXUS', 'LINCOLN', 'LUCID',\n",
       "       'MACK', 'MARKET DIRECT CAMPERS', 'MASERATI', 'MAZDA', 'MCLAREN',\n",
       "       'MERCEDES-BENZ', 'MERCEDES-MAYBACH', 'MINI', 'MITSUBISHI',\n",
       "       'NEWMAR', 'NISSAN', 'NORSTAR', 'NOVAE', 'OPEN RANGE', 'PETERBILT',\n",
       "       'PIAGGIO', 'PJ TRAILERS', 'POLARIS', 'POLESTAR', 'PORSCHE',\n",
       "       'PRATT INDUSTRIES', 'PRIME TIME', 'RAM', 'RENEGADE', 'RIVIAN',\n",
       "       'ROYAL ENFIELD', 'SPARTAN', 'STARCRAFT', 'SUBARU', 'SUZUKI',\n",
       "       'TESLA', 'THOR MOTOR COACH', 'TIFFIN', 'TOMAHAWK', 'TOYOTA',\n",
       "       'TRIUMPH', 'VANDERHALL', 'VINFAST', 'VOLKSWAGEN', 'VOLVO',\n",
       "       'WINNEBAGO', 'YAMAHA', 'ZERO'], dtype=object)"
      ]
     },
     "execution_count": 7,
     "metadata": {},
     "output_type": "execute_result"
    }
   ],
   "source": [
    "data_year_make_2023['make'].unique()"
   ]
  },
  {
   "cell_type": "code",
   "execution_count": 8,
   "metadata": {},
   "outputs": [],
   "source": [
    "# Union of both years makers\n",
    "makers_2023_to_2025 = list(set(data_year_make_2023['make'].unique()) \n",
    "                        | set(data_year_make_2024['make'].unique()) \n",
    "                        | set(data_year_make_2025['make'].unique()))\n",
    "pd.DataFrame(makers_2023_to_2025, columns=['makers']).to_csv('../src/data/bronze/makers_2023_to_2025.csv', index=False)\n"
   ]
  },
  {
   "cell_type": "markdown",
   "metadata": {},
   "source": [
    "# Pegar os modelos por fabricante e ano"
   ]
  },
  {
   "cell_type": "code",
   "execution_count": 11,
   "metadata": {},
   "outputs": [
    {
     "name": "stdout",
     "output_type": "stream",
     "text": [
      "Erro ao acessar dados: 500\n"
     ]
    }
   ],
   "source": [
    "makers = pd.read_csv('../src/data/bronze/makers_2023_to_2025.csv')\n",
    "data_model_make_2023_to_2025 = get_models_by_make_and_year(makers['makers'].unique(), 2023)\n"
   ]
  },
  {
   "cell_type": "code",
   "execution_count": 10,
   "metadata": {},
   "outputs": [],
   "source": [
    "data_model_make_2023_to_2025"
   ]
  },
  {
   "cell_type": "code",
   "execution_count": null,
   "metadata": {},
   "outputs": [],
   "source": []
  }
 ],
 "metadata": {
  "kernelspec": {
   "display_name": ".venv",
   "language": "python",
   "name": "python3"
  },
  "language_info": {
   "codemirror_mode": {
    "name": "ipython",
    "version": 3
   },
   "file_extension": ".py",
   "mimetype": "text/x-python",
   "name": "python",
   "nbconvert_exporter": "python",
   "pygments_lexer": "ipython3",
   "version": "3.12.1"
  }
 },
 "nbformat": 4,
 "nbformat_minor": 2
}
